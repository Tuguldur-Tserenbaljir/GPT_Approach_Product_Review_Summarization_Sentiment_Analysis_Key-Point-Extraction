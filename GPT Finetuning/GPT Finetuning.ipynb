{
 "cells": [
  {
   "cell_type": "markdown",
   "metadata": {},
   "source": [
    "System Integration II \n",
    "Author : Tuguldur Tserenbajir & Jason Theodorus\n",
    "Date : 11th January 2024 "
   ]
  },
  {
   "cell_type": "markdown",
   "metadata": {},
   "source": [
    "### Initializations "
   ]
  },
  {
   "cell_type": "code",
   "execution_count": 11,
   "metadata": {},
   "outputs": [],
   "source": [
    "#IMPORT LIBRARIES   \n",
    "\n",
    "import pandas as pd\n",
    "from sklearn.model_selection import train_test_split\n",
    "import openai\n"
   ]
  },
  {
   "cell_type": "code",
   "execution_count": 12,
   "metadata": {},
   "outputs": [
    {
     "data": {
      "text/html": [
       "<div>\n",
       "<style scoped>\n",
       "    .dataframe tbody tr th:only-of-type {\n",
       "        vertical-align: middle;\n",
       "    }\n",
       "\n",
       "    .dataframe tbody tr th {\n",
       "        vertical-align: top;\n",
       "    }\n",
       "\n",
       "    .dataframe thead th {\n",
       "        text-align: right;\n",
       "    }\n",
       "</style>\n",
       "<table border=\"1\" class=\"dataframe\">\n",
       "  <thead>\n",
       "    <tr style=\"text-align: right;\">\n",
       "      <th></th>\n",
       "      <th>Id</th>\n",
       "      <th>ProductId</th>\n",
       "      <th>UserId</th>\n",
       "      <th>ProfileName</th>\n",
       "      <th>HelpfulnessNumerator</th>\n",
       "      <th>HelpfulnessDenominator</th>\n",
       "      <th>Score</th>\n",
       "      <th>Time</th>\n",
       "      <th>Summary</th>\n",
       "      <th>Text</th>\n",
       "      <th>Label</th>\n",
       "      <th>Aspect(Pos)</th>\n",
       "      <th>Aspect(Neg)</th>\n",
       "      <th>ProductTitle</th>\n",
       "      <th>length</th>\n",
       "    </tr>\n",
       "  </thead>\n",
       "  <tbody>\n",
       "    <tr>\n",
       "      <th>0</th>\n",
       "      <td>42.0</td>\n",
       "      <td>B001EO5QW8</td>\n",
       "      <td>A1WK4ALVZDYPUE</td>\n",
       "      <td>Dick Baldwin \"christobe\"</td>\n",
       "      <td>0.0</td>\n",
       "      <td>0.0</td>\n",
       "      <td>5.0</td>\n",
       "      <td>1.302134e+09</td>\n",
       "      <td>McCann's offers a variety of oatmeal options, ...</td>\n",
       "      <td>McCann's makes oatmeal for every oatmeal conno...</td>\n",
       "      <td>positive</td>\n",
       "      <td>oatmeal, variety, McCann</td>\n",
       "      <td>bulk only, thick, liquidy</td>\n",
       "      <td>McCANN'S Instant Irish Oatmeal, Variety Pack o...</td>\n",
       "      <td>226.0</td>\n",
       "    </tr>\n",
       "    <tr>\n",
       "      <th>1</th>\n",
       "      <td>53.0</td>\n",
       "      <td>B000G6RPMY</td>\n",
       "      <td>A9L6L5H9BPEBO</td>\n",
       "      <td>Edwin C. Pauzer</td>\n",
       "      <td>1.0</td>\n",
       "      <td>1.0</td>\n",
       "      <td>4.0</td>\n",
       "      <td>1.348877e+09</td>\n",
       "      <td>The writer found various items at a specific s...</td>\n",
       "      <td>This wasn't in stock the last time I looked. I...</td>\n",
       "      <td>positive</td>\n",
       "      <td>gift, Ass Kickin Peanuts</td>\n",
       "      <td>extreme spiciness,</td>\n",
       "      <td>Ass Kickin' Peanuts - With Habanero</td>\n",
       "      <td>220.0</td>\n",
       "    </tr>\n",
       "    <tr>\n",
       "      <th>2</th>\n",
       "      <td>74.0</td>\n",
       "      <td>B0059WXJKM</td>\n",
       "      <td>A25VFHVGI4CFTP</td>\n",
       "      <td>Diana Robinson</td>\n",
       "      <td>0.0</td>\n",
       "      <td>1.0</td>\n",
       "      <td>1.0</td>\n",
       "      <td>1.335744e+09</td>\n",
       "      <td>Maltitol, a sugar substitute, can cause digest...</td>\n",
       "      <td>Buyer Beware Please! This sweetener is not for...</td>\n",
       "      <td>negative</td>\n",
       "      <td>maltitol</td>\n",
       "      <td>nausea, diarrhea, headache, caution, bloating,...</td>\n",
       "      <td>Maltitol</td>\n",
       "      <td>306.0</td>\n",
       "    </tr>\n",
       "    <tr>\n",
       "      <th>3</th>\n",
       "      <td>113.0</td>\n",
       "      <td>B0037LW78C</td>\n",
       "      <td>A2F65U0UDY7TAW</td>\n",
       "      <td>Aldo</td>\n",
       "      <td>2.0</td>\n",
       "      <td>2.0</td>\n",
       "      <td>5.0</td>\n",
       "      <td>1.337990e+09</td>\n",
       "      <td>I switched from drinking coffee to Royal King ...</td>\n",
       "      <td>I have been drinking Royal King 100% Natural O...</td>\n",
       "      <td>positive</td>\n",
       "      <td>everyday tea, green tea, health benefit</td>\n",
       "      <td>packaging, tea bag ripping</td>\n",
       "      <td>Royal King 100% Natural Organic Green Tea</td>\n",
       "      <td>334.0</td>\n",
       "    </tr>\n",
       "    <tr>\n",
       "      <th>4</th>\n",
       "      <td>119.0</td>\n",
       "      <td>B003SE19UK</td>\n",
       "      <td>AD1WWGMEQ8FWW</td>\n",
       "      <td>Bob Rex</td>\n",
       "      <td>5.0</td>\n",
       "      <td>5.0</td>\n",
       "      <td>5.0</td>\n",
       "      <td>1.290989e+09</td>\n",
       "      <td>I tried a new cat food for my two cats. The yo...</td>\n",
       "      <td>I had heard a little about this product from t...</td>\n",
       "      <td>positive</td>\n",
       "      <td>healthy, alternative, diet change</td>\n",
       "      <td>expensive</td>\n",
       "      <td>Holistic Select Natural Dry Cat Food, Duck, 5....</td>\n",
       "      <td>298.0</td>\n",
       "    </tr>\n",
       "  </tbody>\n",
       "</table>\n",
       "</div>"
      ],
      "text/plain": [
       "      Id   ProductId          UserId               ProfileName   \n",
       "0   42.0  B001EO5QW8  A1WK4ALVZDYPUE  Dick Baldwin \"christobe\"  \\\n",
       "1   53.0  B000G6RPMY   A9L6L5H9BPEBO           Edwin C. Pauzer   \n",
       "2   74.0  B0059WXJKM  A25VFHVGI4CFTP            Diana Robinson   \n",
       "3  113.0  B0037LW78C  A2F65U0UDY7TAW                      Aldo   \n",
       "4  119.0  B003SE19UK   AD1WWGMEQ8FWW                   Bob Rex   \n",
       "\n",
       "   HelpfulnessNumerator  HelpfulnessDenominator  Score          Time   \n",
       "0                   0.0                     0.0    5.0  1.302134e+09  \\\n",
       "1                   1.0                     1.0    4.0  1.348877e+09   \n",
       "2                   0.0                     1.0    1.0  1.335744e+09   \n",
       "3                   2.0                     2.0    5.0  1.337990e+09   \n",
       "4                   5.0                     5.0    5.0  1.290989e+09   \n",
       "\n",
       "                                             Summary   \n",
       "0  McCann's offers a variety of oatmeal options, ...  \\\n",
       "1  The writer found various items at a specific s...   \n",
       "2  Maltitol, a sugar substitute, can cause digest...   \n",
       "3  I switched from drinking coffee to Royal King ...   \n",
       "4  I tried a new cat food for my two cats. The yo...   \n",
       "\n",
       "                                                Text     Label   \n",
       "0  McCann's makes oatmeal for every oatmeal conno...  positive  \\\n",
       "1  This wasn't in stock the last time I looked. I...  positive   \n",
       "2  Buyer Beware Please! This sweetener is not for...  negative   \n",
       "3  I have been drinking Royal King 100% Natural O...  positive   \n",
       "4  I had heard a little about this product from t...  positive   \n",
       "\n",
       "                               Aspect(Pos)   \n",
       "0                 oatmeal, variety, McCann  \\\n",
       "1                 gift, Ass Kickin Peanuts   \n",
       "2                                 maltitol   \n",
       "3  everyday tea, green tea, health benefit   \n",
       "4        healthy, alternative, diet change   \n",
       "\n",
       "                                         Aspect(Neg)   \n",
       "0                          bulk only, thick, liquidy  \\\n",
       "1                                 extreme spiciness,   \n",
       "2  nausea, diarrhea, headache, caution, bloating,...   \n",
       "3                         packaging, tea bag ripping   \n",
       "4                                          expensive   \n",
       "\n",
       "                                        ProductTitle  length  \n",
       "0  McCANN'S Instant Irish Oatmeal, Variety Pack o...   226.0  \n",
       "1                Ass Kickin' Peanuts - With Habanero   220.0  \n",
       "2                                           Maltitol   306.0  \n",
       "3          Royal King 100% Natural Organic Green Tea   334.0  \n",
       "4  Holistic Select Natural Dry Cat Food, Duck, 5....   298.0  "
      ]
     },
     "execution_count": 12,
     "metadata": {},
     "output_type": "execute_result"
    }
   ],
   "source": [
    "api_key = \"\"\n",
    "#Read Dataset from Excel Workbook\n",
    "df = pd.read_excel('Amazon_Train.xlsx')\n",
    "\n",
    "# Display the first few rows of the DataFrame to confirm it's loaded correctly\n",
    "df.head()"
   ]
  },
  {
   "cell_type": "markdown",
   "metadata": {},
   "source": [
    "##### Convert Dataframe to JSONL for finetuning"
   ]
  },
  {
   "cell_type": "code",
   "execution_count": 13,
   "metadata": {},
   "outputs": [],
   "source": [
    "#Filter the data needed for finetuning\n",
    "finetune_df = df[['Summary', 'Label', 'Aspect(Pos)', 'Aspect(Neg)']]\n",
    "finetune_df.columns = ['summary', 'sentiment', 'aspect_pos', 'aspect_neg']\n",
    "\n",
    "#get only the first 200 lines and save to new df\n"
   ]
  },
  {
   "cell_type": "markdown",
   "metadata": {},
   "source": [
    "##### Split for Training and Testing"
   ]
  },
  {
   "cell_type": "markdown",
   "metadata": {},
   "source": [
    "## Zero Shot Approach (Base Prompting)"
   ]
  },
  {
   "cell_type": "markdown",
   "metadata": {},
   "source": [
    "I tried prompting on ChatGPT 3.5 Turbo model and the result is as  so\n",
    "\n",
    "Prompt 1 : \n",
    "\n",
    "Provide me Sentiment, Positive Aspects, Negative Aspects . Sentiment should only be positive/negative/neutral. Aspects should be 3 words maximum. If there are no Positive/Negative Aspects provide the string \"x\". The format is as so : \n",
    "\n",
    "Sentiment: {sentiment}\n",
    "\n",
    "Aspect(Pos): {aspect_pos}\n",
    "\n",
    "Aspect(Neg): {aspect_neg}\n",
    "\n",
    "Prompt 2 :\n",
    "\n",
    "McCann's offers a variety of oatmeal options, including instant flavors. It cooks up thicker than other brands but may be a bit liquidy with Apples & Cinnamon flavor. You need to buy in bulk, which is great for families.\n",
    "\n",
    "Result Prompt 2 :\n",
    "\n",
    "<strong>\n",
    "Sentiment: Positive\n",
    "\n",
    "Aspect(Pos): Variety, Families\n",
    "\n",
    "Aspect(Neg): Liquidy\n",
    "</strong>\n",
    "\n",
    "Prompt 3 :\n",
    "\n",
    "Our 10-month-old twins love this baby food with organic apples, carrots, brown rice, and lentils. It provides a complete protein despite lentils not being a prime ingredient. They enjoy the sweet potato and fruit varieties too. The packaging is excellent, with reliable delivery. It's not available in local stores, so we appreciate the subscription service. Each serving has 70 calories and provides essential nutrients. Note that the daily intake percentage is based on an adult.\n",
    "\n",
    "Result Prompt 3 :\n",
    "\n",
    "<strong>\n",
    "Sentiment: Positive\n",
    "\n",
    "Aspect(Pos): Organic, Packaging, Variety\n",
    "\n",
    "Aspect(Neg): x\n",
    "</strong>\n",
    "\n",
    "\n"
   ]
  },
  {
   "cell_type": "markdown",
   "metadata": {},
   "source": [
    "#### GPT 3.5 Turbo (Fine Tuning)"
   ]
  },
  {
   "cell_type": "markdown",
   "metadata": {},
   "source": [
    "##### Data Wrangling for finetuning GPT 3.5 Turbo"
   ]
  },
  {
   "cell_type": "code",
   "execution_count": 14,
   "metadata": {},
   "outputs": [
    {
     "name": "stderr",
     "output_type": "stream",
     "text": [
      "C:\\Users\\Jet\\AppData\\Local\\Temp\\ipykernel_2456\\3800243770.py:9: SettingWithCopyWarning: \n",
      "A value is trying to be set on a copy of a slice from a DataFrame.\n",
      "Try using .loc[row_indexer,col_indexer] = value instead\n",
      "\n",
      "See the caveats in the documentation: https://pandas.pydata.org/pandas-docs/stable/user_guide/indexing.html#returning-a-view-versus-a-copy\n",
      "  finetune_df['completion'] = finetune_df.apply(create_completion, axis=1)\n",
      "C:\\Users\\Jet\\AppData\\Local\\Temp\\ipykernel_2456\\3800243770.py:12: SettingWithCopyWarning: \n",
      "A value is trying to be set on a copy of a slice from a DataFrame.\n",
      "Try using .loc[row_indexer,col_indexer] = value instead\n",
      "\n",
      "See the caveats in the documentation: https://pandas.pydata.org/pandas-docs/stable/user_guide/indexing.html#returning-a-view-versus-a-copy\n",
      "  finetune_df['prompt'] = \"Provide me Sentiment, Positive Aspects, Negative Aspects . Sentiment should only be positive/negative/neutral. List more than 1 aspect, but each aspect should be 3 words max. If there are no Positive/Negative Aspects provide the string x. Do it for the following: \" + finetune_df['summary']\n"
     ]
    },
    {
     "data": {
      "text/html": [
       "<div>\n",
       "<style scoped>\n",
       "    .dataframe tbody tr th:only-of-type {\n",
       "        vertical-align: middle;\n",
       "    }\n",
       "\n",
       "    .dataframe tbody tr th {\n",
       "        vertical-align: top;\n",
       "    }\n",
       "\n",
       "    .dataframe thead th {\n",
       "        text-align: right;\n",
       "    }\n",
       "</style>\n",
       "<table border=\"1\" class=\"dataframe\">\n",
       "  <thead>\n",
       "    <tr style=\"text-align: right;\">\n",
       "      <th></th>\n",
       "      <th>summary</th>\n",
       "      <th>sentiment</th>\n",
       "      <th>aspect_pos</th>\n",
       "      <th>aspect_neg</th>\n",
       "      <th>completion</th>\n",
       "      <th>prompt</th>\n",
       "    </tr>\n",
       "  </thead>\n",
       "  <tbody>\n",
       "    <tr>\n",
       "      <th>0</th>\n",
       "      <td>McCann's offers a variety of oatmeal options, ...</td>\n",
       "      <td>positive</td>\n",
       "      <td>oatmeal, variety, McCann</td>\n",
       "      <td>bulk only, thick, liquidy</td>\n",
       "      <td>Sentiment: Positive\\nAspect(Pos): oatmeal, var...</td>\n",
       "      <td>Provide me Sentiment, Positive Aspects, Negati...</td>\n",
       "    </tr>\n",
       "    <tr>\n",
       "      <th>1</th>\n",
       "      <td>The writer found various items at a specific s...</td>\n",
       "      <td>positive</td>\n",
       "      <td>gift, Ass Kickin Peanuts</td>\n",
       "      <td>extreme spiciness,</td>\n",
       "      <td>Sentiment: Positive\\nAspect(Pos): gift, Ass Ki...</td>\n",
       "      <td>Provide me Sentiment, Positive Aspects, Negati...</td>\n",
       "    </tr>\n",
       "    <tr>\n",
       "      <th>2</th>\n",
       "      <td>Maltitol, a sugar substitute, can cause digest...</td>\n",
       "      <td>negative</td>\n",
       "      <td>maltitol</td>\n",
       "      <td>nausea, diarrhea, headache, caution, bloating,...</td>\n",
       "      <td>Sentiment: Negative\\nAspect(Pos): maltitol\\nAs...</td>\n",
       "      <td>Provide me Sentiment, Positive Aspects, Negati...</td>\n",
       "    </tr>\n",
       "    <tr>\n",
       "      <th>3</th>\n",
       "      <td>I switched from drinking coffee to Royal King ...</td>\n",
       "      <td>positive</td>\n",
       "      <td>everyday tea, green tea, health benefit</td>\n",
       "      <td>packaging, tea bag ripping</td>\n",
       "      <td>Sentiment: Positive\\nAspect(Pos): everyday tea...</td>\n",
       "      <td>Provide me Sentiment, Positive Aspects, Negati...</td>\n",
       "    </tr>\n",
       "    <tr>\n",
       "      <th>4</th>\n",
       "      <td>I tried a new cat food for my two cats. The yo...</td>\n",
       "      <td>positive</td>\n",
       "      <td>healthy, alternative, diet change</td>\n",
       "      <td>expensive</td>\n",
       "      <td>Sentiment: Positive\\nAspect(Pos): healthy, alt...</td>\n",
       "      <td>Provide me Sentiment, Positive Aspects, Negati...</td>\n",
       "    </tr>\n",
       "  </tbody>\n",
       "</table>\n",
       "</div>"
      ],
      "text/plain": [
       "                                             summary sentiment   \n",
       "0  McCann's offers a variety of oatmeal options, ...  positive  \\\n",
       "1  The writer found various items at a specific s...  positive   \n",
       "2  Maltitol, a sugar substitute, can cause digest...  negative   \n",
       "3  I switched from drinking coffee to Royal King ...  positive   \n",
       "4  I tried a new cat food for my two cats. The yo...  positive   \n",
       "\n",
       "                                aspect_pos   \n",
       "0                 oatmeal, variety, McCann  \\\n",
       "1                 gift, Ass Kickin Peanuts   \n",
       "2                                 maltitol   \n",
       "3  everyday tea, green tea, health benefit   \n",
       "4        healthy, alternative, diet change   \n",
       "\n",
       "                                          aspect_neg   \n",
       "0                          bulk only, thick, liquidy  \\\n",
       "1                                 extreme spiciness,   \n",
       "2  nausea, diarrhea, headache, caution, bloating,...   \n",
       "3                         packaging, tea bag ripping   \n",
       "4                                          expensive   \n",
       "\n",
       "                                          completion   \n",
       "0  Sentiment: Positive\\nAspect(Pos): oatmeal, var...  \\\n",
       "1  Sentiment: Positive\\nAspect(Pos): gift, Ass Ki...   \n",
       "2  Sentiment: Negative\\nAspect(Pos): maltitol\\nAs...   \n",
       "3  Sentiment: Positive\\nAspect(Pos): everyday tea...   \n",
       "4  Sentiment: Positive\\nAspect(Pos): healthy, alt...   \n",
       "\n",
       "                                              prompt  \n",
       "0  Provide me Sentiment, Positive Aspects, Negati...  \n",
       "1  Provide me Sentiment, Positive Aspects, Negati...  \n",
       "2  Provide me Sentiment, Positive Aspects, Negati...  \n",
       "3  Provide me Sentiment, Positive Aspects, Negati...  \n",
       "4  Provide me Sentiment, Positive Aspects, Negati...  "
      ]
     },
     "execution_count": 14,
     "metadata": {},
     "output_type": "execute_result"
    }
   ],
   "source": [
    "# Function to create a formatted completion string\n",
    "def create_completion(row):\n",
    "    sentiment = f\"Sentiment: {row['sentiment'].capitalize()}\"  # Capitalize the sentiment\n",
    "    aspect_pos = f\"Aspect(Pos): {row['aspect_pos']}\"\n",
    "    aspect_neg = f\"Aspect(Neg): {row['aspect_neg'] if row['aspect_neg'] != 'x' else 'None'}\"  # Handle 'x' as 'None'\n",
    "    return f\"{sentiment}\\n{aspect_pos}\\n{aspect_neg}\"\n",
    "\n",
    "# Apply the function to create the completion column\n",
    "finetune_df['completion'] = finetune_df.apply(create_completion, axis=1)\n",
    "\n",
    "# Create the prompt column\n",
    "finetune_df['prompt'] = \"Provide me Sentiment, Positive Aspects, Negative Aspects . Sentiment should only be positive/negative/neutral. List more than 1 aspect, but each aspect should be 3 words max. If there are no Positive/Negative Aspects provide the string x. Do it for the following: \" + finetune_df['summary']\n",
    "\n",
    "finetune_df.head()"
   ]
  },
  {
   "cell_type": "markdown",
   "metadata": {},
   "source": [
    "##### Split for Training and Testing"
   ]
  },
  {
   "cell_type": "code",
   "execution_count": 15,
   "metadata": {},
   "outputs": [
    {
     "name": "stdout",
     "output_type": "stream",
     "text": [
      "(655, 6)\n",
      "(164, 6)\n"
     ]
    }
   ],
   "source": [
    "train_df, test_df = train_test_split(finetune_df, test_size=0.2, random_state=42)\n",
    "\n",
    "\n",
    "\n",
    "# Convert training data to JSON Lines with new prompts and completions\n",
    "train_df[['prompt', 'completion']].to_json('train_data_with_formatted_completions.jsonl', orient='records', lines=True)\n",
    "\n",
    "# Convert testing data to JSON Lines with new prompts and completions\n",
    "test_df[['prompt', 'completion']].to_json('test_data_with_formatted_completions.jsonl', orient='records', lines=True)\n",
    "\n",
    "print(train_df.shape)\n",
    "print(test_df.shape)\n"
   ]
  },
  {
   "cell_type": "markdown",
   "metadata": {},
   "source": [
    "#### Conduct Finetuning"
   ]
  },
  {
   "cell_type": "code",
   "execution_count": 16,
   "metadata": {},
   "outputs": [],
   "source": [
    "# openai.api_key = 'your-api-key'\n",
    "\n",
    "# # Assuming you've correctly formatted and uploaded your chat-formatted JSONL file\n",
    "# training_file = 'path/to/chat_formatted_data.jsonl'\n",
    "\n",
    "# # Create a fine-tuning job using the chat model\n",
    "# response = openai.FineTune.create(\n",
    "#     training_file=training_file,\n",
    "#     model=\"gpt-3.5-turbo-0125\",\n",
    "#     n_epochs=4,\n",
    "#     batch_size=4,\n",
    "#     learning_rate_multiplier=0.1\n",
    "# )\n",
    "\n",
    "# print(\"Fine-tune job ID:\", response['id'])\n"
   ]
  },
  {
   "cell_type": "markdown",
   "metadata": {},
   "source": [
    "#### Inference Model"
   ]
  },
  {
   "cell_type": "code",
   "execution_count": 17,
   "metadata": {},
   "outputs": [
    {
     "name": "stdout",
     "output_type": "stream",
     "text": [
      "Model Response: Sentiment: Positive\n",
      "Aspect(Pos): best national brand, perfect condition, delicate flavor, fresh, and ideal for emergency food supplies\n",
      "Aspect(Neg): None\n",
      "Aspect: fresh, and ideal for emergency food supplies\n",
      "Aspect: best national brand, perfect condition, delicate flavor, fresh, and ideal for emergency food supplies\n",
      "Aspect: emergency food supplies, fresh, and ideal for emergency food supplies\n",
      "Aspect: best national brand, perfect condition, delicate flavor, fresh, and ideal for emergency food supplies\n"
     ]
    }
   ],
   "source": [
    "#Single Inference\n",
    "\n",
    "# Set up your API key\n",
    "openai.api_key = ''\n",
    "\n",
    "# Model ID of your fine-tuned model\n",
    "model_id = \"ft:babbage-002:personal:kpi-1:9JbgNwVJ\"\n",
    "\n",
    "def query_model(prompt):\n",
    "    try:\n",
    "        response = openai.Completion.create(\n",
    "            model=model_id,       # fine-tuned model\n",
    "            prompt=prompt,        # input prompt\n",
    "            max_tokens=100,        # output tokens\n",
    "            temperature=0.5       # creativity level\n",
    "        )\n",
    "        return response.choices[0].text.strip()\n",
    "    except Exception as e:\n",
    "        print(f\"An error occurred: {e}\")\n",
    "        return None\n",
    "\n",
    "# Example prompt\n",
    "prompt = '''Provide me Sentiment, Positive Aspects, Negative Aspects . Sentiment should only be positive/negative/neutral. List more than 1 aspect, but each aspect should be 3 words max. If there are no Positive/Negative Aspects provide the string x. The format is as so : \n",
    "\n",
    "Sentiment: {sentiment}\n",
    "\n",
    "Aspect(Pos): {aspect_pos}\n",
    "\n",
    "Aspect(Neg): {aspect_neg}   Do it for the following: These sardines are the best national brand - perfect condition, delicate flavor, and packed in pure olive oil. They make a great midnight snack on sourdough bread with mayo, sweet pickle relish, and Tabasco. Plus, they have a long shelf life, making them ideal for emergency food supplies.'''\n",
    "\n",
    "# Get the response from the model\n",
    "response_text = query_model(prompt)\n",
    "print(\"Model Response:\", response_text)\n"
   ]
  },
  {
   "cell_type": "code",
   "execution_count": 27,
   "metadata": {},
   "outputs": [
    {
     "name": "stdout",
     "output_type": "stream",
     "text": [
      "Sentiment: Positive\n",
      "Aspect(Pos): best national brand, perfect condition, delicate flavor, and packed in oil\n",
      "Aspect(Neg): None\n"
     ]
    },
    {
     "data": {
      "text/html": [
       "<div>\n",
       "<style scoped>\n",
       "    .dataframe tbody tr th:only-of-type {\n",
       "        vertical-align: middle;\n",
       "    }\n",
       "\n",
       "    .dataframe tbody tr th {\n",
       "        vertical-align: top;\n",
       "    }\n",
       "\n",
       "    .dataframe thead th {\n",
       "        text-align: right;\n",
       "    }\n",
       "</style>\n",
       "<table border=\"1\" class=\"dataframe\">\n",
       "  <thead>\n",
       "    <tr style=\"text-align: right;\">\n",
       "      <th></th>\n",
       "      <th>Sentiment</th>\n",
       "      <th>Aspect(Pos)</th>\n",
       "      <th>Aspect(Neg)</th>\n",
       "    </tr>\n",
       "  </thead>\n",
       "  <tbody>\n",
       "    <tr>\n",
       "      <th>0</th>\n",
       "      <td>Positive</td>\n",
       "      <td>best national brand, perfect condition, delica...</td>\n",
       "      <td>None</td>\n",
       "    </tr>\n",
       "  </tbody>\n",
       "</table>\n",
       "</div>"
      ],
      "text/plain": [
       "  Sentiment                                        Aspect(Pos) Aspect(Neg)\n",
       "0  Positive  best national brand, perfect condition, delica...        None"
      ]
     },
     "execution_count": 27,
     "metadata": {},
     "output_type": "execute_result"
    }
   ],
   "source": [
    "import re\n",
    "model_results = \"\"\"Sentiment: Positive\n",
    "Aspect(Pos): best national brand, perfect condition, delicate flavor, and packed in oil\n",
    "Aspect(Neg): None\n",
    "Aspect: snack, emergency food supply, shelf life\n",
    "Aspect(S): best national brand, perfect condition, delicate flavor, and oil\n",
    "Aspect(N): None\n",
    "Aspect(N): None\n",
    "\n",
    "Aspect(Out): None\n",
    "\n",
    "Aspect(Neg): None\n",
    "\n",
    "Aspect(Out): None\n",
    "\n",
    "Aspect(Out): None\n",
    "\n",
    "Aspect(Out): None\n",
    "\n",
    "Aspect(Out):\"\"\"\n",
    "\n",
    "import pandas as pd\n",
    "import re\n",
    "\n",
    "def extract_sentiment_aspect(text):\n",
    "    sentiment = re.search(r\"Sentiment: (\\w+)\", text).group(1)\n",
    "    aspect_pos = re.search(r\"Aspect\\(Pos\\): (.+)\", text).group(1)\n",
    "    aspect_neg = re.search(r\"Aspect\\(Neg\\): (.+)\", text).group(1)\n",
    "    return sentiment, aspect_pos, aspect_neg\n",
    "\n",
    "# Sample model_results for demonstration, replace this with your actual data\n",
    "\n",
    "# Extract sentiment and aspects\n",
    "sentiment, aspect_pos, aspect_neg = extract_sentiment_aspect(model_results)\n",
    "\n",
    "# Print the extracted values\n",
    "print(\"Sentiment:\", sentiment)\n",
    "print(\"Aspect(Pos):\", aspect_pos)\n",
    "print(\"Aspect(Neg):\", aspect_neg)\n",
    "\n",
    "# Define columns for the DataFrame\n",
    "columns = ['Sentiment', 'Aspect(Pos)', 'Aspect(Neg)']\n",
    "\n",
    "# Create an empty DataFrame\n",
    "dftest = pd.DataFrame(columns=columns)\n",
    "\n",
    "# Create a new row with extracted data\n",
    "new_row = pd.DataFrame([{'Sentiment': sentiment, 'Aspect(Pos)': aspect_pos, 'Aspect(Neg)': aspect_neg}])\n",
    "\n",
    "# Concatenate the new row to the existing DataFrame\n",
    "dftest = pd.concat([dftest, new_row], ignore_index=True)\n",
    "\n",
    "# Print the DataFrame\n",
    "dftest\n"
   ]
  },
  {
   "cell_type": "markdown",
   "metadata": {},
   "source": [
    "### Inferencing using Babbage"
   ]
  },
  {
   "cell_type": "code",
   "execution_count": 19,
   "metadata": {},
   "outputs": [
    {
     "data": {
      "text/html": [
       "<div>\n",
       "<style scoped>\n",
       "    .dataframe tbody tr th:only-of-type {\n",
       "        vertical-align: middle;\n",
       "    }\n",
       "\n",
       "    .dataframe tbody tr th {\n",
       "        vertical-align: top;\n",
       "    }\n",
       "\n",
       "    .dataframe thead th {\n",
       "        text-align: right;\n",
       "    }\n",
       "</style>\n",
       "<table border=\"1\" class=\"dataframe\">\n",
       "  <thead>\n",
       "    <tr style=\"text-align: right;\">\n",
       "      <th></th>\n",
       "      <th>summary</th>\n",
       "      <th>sentiment</th>\n",
       "      <th>aspect_pos</th>\n",
       "      <th>aspect_neg</th>\n",
       "    </tr>\n",
       "  </thead>\n",
       "  <tbody>\n",
       "    <tr>\n",
       "      <th>86</th>\n",
       "      <td>The item was surprisingly thin! Despite orderi...</td>\n",
       "      <td>negative</td>\n",
       "      <td>refund</td>\n",
       "      <td>skinny, size, disappointed, cost, shipping, ve...</td>\n",
       "    </tr>\n",
       "    <tr>\n",
       "      <th>432</th>\n",
       "      <td>As a coffee lover, I had high expectations for...</td>\n",
       "      <td>negative</td>\n",
       "      <td>x</td>\n",
       "      <td>strange, carbonated, aftertasrte, taste</td>\n",
       "    </tr>\n",
       "    <tr>\n",
       "      <th>799</th>\n",
       "      <td>When I received the Lickety Stik, my dogs were...</td>\n",
       "      <td>positive</td>\n",
       "      <td>healthy ingredients, value the price</td>\n",
       "      <td>sticky thumb, biscuits, one bottle</td>\n",
       "    </tr>\n",
       "    <tr>\n",
       "      <th>417</th>\n",
       "      <td>As someone who enjoys bold and strong coffee, ...</td>\n",
       "      <td>positive</td>\n",
       "      <td>taste, bold, strong</td>\n",
       "      <td>x</td>\n",
       "    </tr>\n",
       "    <tr>\n",
       "      <th>678</th>\n",
       "      <td>I wasn't able to find them reliably anywhere a...</td>\n",
       "      <td>positive</td>\n",
       "      <td>excitement, various flavor, weight loss, break...</td>\n",
       "      <td>x</td>\n",
       "    </tr>\n",
       "  </tbody>\n",
       "</table>\n",
       "</div>"
      ],
      "text/plain": [
       "                                               summary sentiment   \n",
       "86   The item was surprisingly thin! Despite orderi...  negative  \\\n",
       "432  As a coffee lover, I had high expectations for...  negative   \n",
       "799  When I received the Lickety Stik, my dogs were...  positive   \n",
       "417  As someone who enjoys bold and strong coffee, ...  positive   \n",
       "678  I wasn't able to find them reliably anywhere a...  positive   \n",
       "\n",
       "                                            aspect_pos   \n",
       "86                                              refund  \\\n",
       "432                                                  x   \n",
       "799               healthy ingredients, value the price   \n",
       "417                                taste, bold, strong   \n",
       "678  excitement, various flavor, weight loss, break...   \n",
       "\n",
       "                                            aspect_neg  \n",
       "86   skinny, size, disappointed, cost, shipping, ve...  \n",
       "432            strange, carbonated, aftertasrte, taste  \n",
       "799                 sticky thumb, biscuits, one bottle  \n",
       "417                                                  x  \n",
       "678                                                  x  "
      ]
     },
     "execution_count": 19,
     "metadata": {},
     "output_type": "execute_result"
    }
   ],
   "source": [
    "score_df = pd.DataFrame()\n",
    "score_df[\"summary\"] = test_df[\"summary\"]\n",
    "score_df[\"sentiment\"] = test_df['sentiment'] \n",
    "score_df[\"aspect_pos\"] = test_df['aspect_pos']\n",
    "score_df[\"aspect_neg\"] = test_df['aspect_neg'] \n",
    "\n",
    "#save the results for comparison\n",
    "score_df.head()"
   ]
  },
  {
   "cell_type": "code",
   "execution_count": 30,
   "metadata": {},
   "outputs": [],
   "source": [
    "openai.api_key = ''\n",
    "model_id = \"ft:babbage-002:personal:kpi-1:9JbgNwVJ\"\n",
    "\n",
    "def query_model(prompt):\n",
    "    try:\n",
    "        response = openai.Completion.create(\n",
    "            model=model_id,       # fine-tuned model\n",
    "            prompt=prompt,        # input prompt\n",
    "            max_tokens=100,        # output tokens\n",
    "            temperature=0.5       # creativity level\n",
    "        )\n",
    "        return response.choices[0].text.strip()\n",
    "    except Exception as e:\n",
    "        print(f\"An error occurred: {e}\")\n",
    "        return None\n",
    "    \n",
    "def prepare_and_query_model(summary):\n",
    "    prompt = f'''Provide me Sentiment, Positive Aspects, Negative Aspects . Sentiment should only be positive/negative/neutral. List more than 1 aspect, but each aspect should be 3 words max. If there are no Positive/Negative Aspects provide the string x. The format is as so : \n",
    "    \n",
    "Sentiment: {{sentiment}}\n",
    "\n",
    "Aspect(Pos): {{aspect_pos}}\n",
    "\n",
    "Aspect(Neg): {{aspect_neg}}   Do it for the following: {summary}'''\n",
    "    return query_model(prompt)\n",
    "\n",
    "test_df['Model Response'] = test_df['summary'].apply(prepare_and_query_model)\n",
    "\n",
    "test_df.to_excel('test_data_with_model_responses.xlsx')\n",
    "\n"
   ]
  },
  {
   "cell_type": "code",
   "execution_count": 29,
   "metadata": {},
   "outputs": [
    {
     "data": {
      "text/html": [
       "<div>\n",
       "<style scoped>\n",
       "    .dataframe tbody tr th:only-of-type {\n",
       "        vertical-align: middle;\n",
       "    }\n",
       "\n",
       "    .dataframe tbody tr th {\n",
       "        vertical-align: top;\n",
       "    }\n",
       "\n",
       "    .dataframe thead th {\n",
       "        text-align: right;\n",
       "    }\n",
       "</style>\n",
       "<table border=\"1\" class=\"dataframe\">\n",
       "  <thead>\n",
       "    <tr style=\"text-align: right;\">\n",
       "      <th></th>\n",
       "      <th>summary</th>\n",
       "      <th>sentiment</th>\n",
       "      <th>aspect_pos</th>\n",
       "      <th>aspect_neg</th>\n",
       "      <th>completion</th>\n",
       "      <th>prompt</th>\n",
       "    </tr>\n",
       "  </thead>\n",
       "  <tbody>\n",
       "    <tr>\n",
       "      <th>86</th>\n",
       "      <td>The item was surprisingly thin! Despite orderi...</td>\n",
       "      <td>negative</td>\n",
       "      <td>refund</td>\n",
       "      <td>skinny, size, disappointed, cost, shipping, ve...</td>\n",
       "      <td>Sentiment: Negative\\nAspect(Pos): refund\\nAspe...</td>\n",
       "      <td>Provide me Sentiment, Positive Aspects, Negati...</td>\n",
       "    </tr>\n",
       "    <tr>\n",
       "      <th>432</th>\n",
       "      <td>As a coffee lover, I had high expectations for...</td>\n",
       "      <td>negative</td>\n",
       "      <td>x</td>\n",
       "      <td>strange, carbonated, aftertasrte, taste</td>\n",
       "      <td>Sentiment: Negative\\nAspect(Pos): x\\nAspect(Ne...</td>\n",
       "      <td>Provide me Sentiment, Positive Aspects, Negati...</td>\n",
       "    </tr>\n",
       "    <tr>\n",
       "      <th>799</th>\n",
       "      <td>When I received the Lickety Stik, my dogs were...</td>\n",
       "      <td>positive</td>\n",
       "      <td>healthy ingredients, value the price</td>\n",
       "      <td>sticky thumb, biscuits, one bottle</td>\n",
       "      <td>Sentiment: Positive\\nAspect(Pos): healthy ingr...</td>\n",
       "      <td>Provide me Sentiment, Positive Aspects, Negati...</td>\n",
       "    </tr>\n",
       "    <tr>\n",
       "      <th>417</th>\n",
       "      <td>As someone who enjoys bold and strong coffee, ...</td>\n",
       "      <td>positive</td>\n",
       "      <td>taste, bold, strong</td>\n",
       "      <td>x</td>\n",
       "      <td>Sentiment: Positive\\nAspect(Pos): taste, bold,...</td>\n",
       "      <td>Provide me Sentiment, Positive Aspects, Negati...</td>\n",
       "    </tr>\n",
       "    <tr>\n",
       "      <th>678</th>\n",
       "      <td>I wasn't able to find them reliably anywhere a...</td>\n",
       "      <td>positive</td>\n",
       "      <td>excitement, various flavor, weight loss, break...</td>\n",
       "      <td>x</td>\n",
       "      <td>Sentiment: Positive\\nAspect(Pos): excitement, ...</td>\n",
       "      <td>Provide me Sentiment, Positive Aspects, Negati...</td>\n",
       "    </tr>\n",
       "    <tr>\n",
       "      <th>...</th>\n",
       "      <td>...</td>\n",
       "      <td>...</td>\n",
       "      <td>...</td>\n",
       "      <td>...</td>\n",
       "      <td>...</td>\n",
       "      <td>...</td>\n",
       "    </tr>\n",
       "    <tr>\n",
       "      <th>209</th>\n",
       "      <td>I personally enjoyed this chocolate bar, findi...</td>\n",
       "      <td>positive</td>\n",
       "      <td>sweet, smooth</td>\n",
       "      <td>not enough cocoa</td>\n",
       "      <td>Sentiment: Positive\\nAspect(Pos): sweet, smoot...</td>\n",
       "      <td>Provide me Sentiment, Positive Aspects, Negati...</td>\n",
       "    </tr>\n",
       "    <tr>\n",
       "      <th>446</th>\n",
       "      <td>I actually enjoyed this product. While it fall...</td>\n",
       "      <td>positive</td>\n",
       "      <td>taste fruity, organic</td>\n",
       "      <td>x</td>\n",
       "      <td>Sentiment: Positive\\nAspect(Pos): taste fruity...</td>\n",
       "      <td>Provide me Sentiment, Positive Aspects, Negati...</td>\n",
       "    </tr>\n",
       "    <tr>\n",
       "      <th>763</th>\n",
       "      <td>I have been a fan of coconut water for over 2 ...</td>\n",
       "      <td>negative</td>\n",
       "      <td>taste, quality, satisfaction</td>\n",
       "      <td>mold, taste, sickness, incident</td>\n",
       "      <td>Sentiment: Negative\\nAspect(Pos): taste, quali...</td>\n",
       "      <td>Provide me Sentiment, Positive Aspects, Negati...</td>\n",
       "    </tr>\n",
       "    <tr>\n",
       "      <th>523</th>\n",
       "      <td>I don't own a microwave, so I improvised the c...</td>\n",
       "      <td>positive</td>\n",
       "      <td>great discount price, free from wheat, free fr...</td>\n",
       "      <td>x</td>\n",
       "      <td>Sentiment: Positive\\nAspect(Pos): great discou...</td>\n",
       "      <td>Provide me Sentiment, Positive Aspects, Negati...</td>\n",
       "    </tr>\n",
       "    <tr>\n",
       "      <th>717</th>\n",
       "      <td>For the past few years my Beagle, Boing, has e...</td>\n",
       "      <td>positive</td>\n",
       "      <td>affordable option, transitioning process, shin...</td>\n",
       "      <td>x</td>\n",
       "      <td>Sentiment: Positive\\nAspect(Pos): affordable o...</td>\n",
       "      <td>Provide me Sentiment, Positive Aspects, Negati...</td>\n",
       "    </tr>\n",
       "  </tbody>\n",
       "</table>\n",
       "<p>164 rows × 6 columns</p>\n",
       "</div>"
      ],
      "text/plain": [
       "                                               summary sentiment   \n",
       "86   The item was surprisingly thin! Despite orderi...  negative  \\\n",
       "432  As a coffee lover, I had high expectations for...  negative   \n",
       "799  When I received the Lickety Stik, my dogs were...  positive   \n",
       "417  As someone who enjoys bold and strong coffee, ...  positive   \n",
       "678  I wasn't able to find them reliably anywhere a...  positive   \n",
       "..                                                 ...       ...   \n",
       "209  I personally enjoyed this chocolate bar, findi...  positive   \n",
       "446  I actually enjoyed this product. While it fall...  positive   \n",
       "763  I have been a fan of coconut water for over 2 ...  negative   \n",
       "523  I don't own a microwave, so I improvised the c...  positive   \n",
       "717  For the past few years my Beagle, Boing, has e...  positive   \n",
       "\n",
       "                                            aspect_pos   \n",
       "86                                              refund  \\\n",
       "432                                                  x   \n",
       "799               healthy ingredients, value the price   \n",
       "417                                taste, bold, strong   \n",
       "678  excitement, various flavor, weight loss, break...   \n",
       "..                                                 ...   \n",
       "209                                      sweet, smooth   \n",
       "446                              taste fruity, organic   \n",
       "763                       taste, quality, satisfaction   \n",
       "523  great discount price, free from wheat, free fr...   \n",
       "717  affordable option, transitioning process, shin...   \n",
       "\n",
       "                                            aspect_neg   \n",
       "86   skinny, size, disappointed, cost, shipping, ve...  \\\n",
       "432            strange, carbonated, aftertasrte, taste   \n",
       "799                 sticky thumb, biscuits, one bottle   \n",
       "417                                                  x   \n",
       "678                                                  x   \n",
       "..                                                 ...   \n",
       "209                                   not enough cocoa   \n",
       "446                                                  x   \n",
       "763                    mold, taste, sickness, incident   \n",
       "523                                                  x   \n",
       "717                                                  x   \n",
       "\n",
       "                                            completion   \n",
       "86   Sentiment: Negative\\nAspect(Pos): refund\\nAspe...  \\\n",
       "432  Sentiment: Negative\\nAspect(Pos): x\\nAspect(Ne...   \n",
       "799  Sentiment: Positive\\nAspect(Pos): healthy ingr...   \n",
       "417  Sentiment: Positive\\nAspect(Pos): taste, bold,...   \n",
       "678  Sentiment: Positive\\nAspect(Pos): excitement, ...   \n",
       "..                                                 ...   \n",
       "209  Sentiment: Positive\\nAspect(Pos): sweet, smoot...   \n",
       "446  Sentiment: Positive\\nAspect(Pos): taste fruity...   \n",
       "763  Sentiment: Negative\\nAspect(Pos): taste, quali...   \n",
       "523  Sentiment: Positive\\nAspect(Pos): great discou...   \n",
       "717  Sentiment: Positive\\nAspect(Pos): affordable o...   \n",
       "\n",
       "                                                prompt  \n",
       "86   Provide me Sentiment, Positive Aspects, Negati...  \n",
       "432  Provide me Sentiment, Positive Aspects, Negati...  \n",
       "799  Provide me Sentiment, Positive Aspects, Negati...  \n",
       "417  Provide me Sentiment, Positive Aspects, Negati...  \n",
       "678  Provide me Sentiment, Positive Aspects, Negati...  \n",
       "..                                                 ...  \n",
       "209  Provide me Sentiment, Positive Aspects, Negati...  \n",
       "446  Provide me Sentiment, Positive Aspects, Negati...  \n",
       "763  Provide me Sentiment, Positive Aspects, Negati...  \n",
       "523  Provide me Sentiment, Positive Aspects, Negati...  \n",
       "717  Provide me Sentiment, Positive Aspects, Negati...  \n",
       "\n",
       "[164 rows x 6 columns]"
      ]
     },
     "execution_count": 29,
     "metadata": {},
     "output_type": "execute_result"
    }
   ],
   "source": [
    "test_df"
   ]
  },
  {
   "cell_type": "code",
   "execution_count": null,
   "metadata": {},
   "outputs": [],
   "source": []
  },
  {
   "cell_type": "code",
   "execution_count": 33,
   "metadata": {},
   "outputs": [
    {
     "data": {
      "text/html": [
       "<div>\n",
       "<style scoped>\n",
       "    .dataframe tbody tr th:only-of-type {\n",
       "        vertical-align: middle;\n",
       "    }\n",
       "\n",
       "    .dataframe tbody tr th {\n",
       "        vertical-align: top;\n",
       "    }\n",
       "\n",
       "    .dataframe thead th {\n",
       "        text-align: right;\n",
       "    }\n",
       "</style>\n",
       "<table border=\"1\" class=\"dataframe\">\n",
       "  <thead>\n",
       "    <tr style=\"text-align: right;\">\n",
       "      <th></th>\n",
       "      <th>Unnamed: 0</th>\n",
       "      <th>summary</th>\n",
       "      <th>sentiment</th>\n",
       "      <th>aspect_pos</th>\n",
       "      <th>aspect_neg</th>\n",
       "      <th>completion</th>\n",
       "      <th>prompt</th>\n",
       "      <th>Model Response</th>\n",
       "    </tr>\n",
       "  </thead>\n",
       "  <tbody>\n",
       "    <tr>\n",
       "      <th>0</th>\n",
       "      <td>86</td>\n",
       "      <td>The item was surprisingly thin! Despite orderi...</td>\n",
       "      <td>negative</td>\n",
       "      <td>refund</td>\n",
       "      <td>skinny, size, disappointed, cost, shipping, ve...</td>\n",
       "      <td>Sentiment: Negative\\nAspect(Pos): refund\\nAspe...</td>\n",
       "      <td>Provide me Sentiment, Positive Aspects, Negati...</td>\n",
       "      <td>Sentiment: Negative\\nAspect(Pos): x\\nAspect(Ne...</td>\n",
       "    </tr>\n",
       "    <tr>\n",
       "      <th>1</th>\n",
       "      <td>432</td>\n",
       "      <td>As a coffee lover, I had high expectations for...</td>\n",
       "      <td>negative</td>\n",
       "      <td>x</td>\n",
       "      <td>strange, carbonated, aftertasrte, taste</td>\n",
       "      <td>Sentiment: Negative\\nAspect(Pos): x\\nAspect(Ne...</td>\n",
       "      <td>Provide me Sentiment, Positive Aspects, Negati...</td>\n",
       "      <td>Sentiment: Negative\\nAspect(Pos): coffee drink...</td>\n",
       "    </tr>\n",
       "    <tr>\n",
       "      <th>2</th>\n",
       "      <td>799</td>\n",
       "      <td>When I received the Lickety Stik, my dogs were...</td>\n",
       "      <td>positive</td>\n",
       "      <td>healthy ingredients, value the price</td>\n",
       "      <td>sticky thumb, biscuits, one bottle</td>\n",
       "      <td>Sentiment: Positive\\nAspect(Pos): healthy ingr...</td>\n",
       "      <td>Provide me Sentiment, Positive Aspects, Negati...</td>\n",
       "      <td>Sentiment: Positive\\nAspect(Pos): training too...</td>\n",
       "    </tr>\n",
       "    <tr>\n",
       "      <th>3</th>\n",
       "      <td>417</td>\n",
       "      <td>As someone who enjoys bold and strong coffee, ...</td>\n",
       "      <td>positive</td>\n",
       "      <td>taste, bold, strong</td>\n",
       "      <td>x</td>\n",
       "      <td>Sentiment: Positive\\nAspect(Pos): taste, bold,...</td>\n",
       "      <td>Provide me Sentiment, Positive Aspects, Negati...</td>\n",
       "      <td>Sentiment: Negative\\nAspect(Pos): x\\nAspect(Ne...</td>\n",
       "    </tr>\n",
       "    <tr>\n",
       "      <th>4</th>\n",
       "      <td>678</td>\n",
       "      <td>I wasn't able to find them reliably anywhere a...</td>\n",
       "      <td>positive</td>\n",
       "      <td>excitement, various flavor, weight loss, break...</td>\n",
       "      <td>x</td>\n",
       "      <td>Sentiment: Positive\\nAspect(Pos): excitement, ...</td>\n",
       "      <td>Provide me Sentiment, Positive Aspects, Negati...</td>\n",
       "      <td>Sentiment: Positive\\nAspect(Pos): affordable, ...</td>\n",
       "    </tr>\n",
       "    <tr>\n",
       "      <th>...</th>\n",
       "      <td>...</td>\n",
       "      <td>...</td>\n",
       "      <td>...</td>\n",
       "      <td>...</td>\n",
       "      <td>...</td>\n",
       "      <td>...</td>\n",
       "      <td>...</td>\n",
       "      <td>...</td>\n",
       "    </tr>\n",
       "    <tr>\n",
       "      <th>159</th>\n",
       "      <td>209</td>\n",
       "      <td>I personally enjoyed this chocolate bar, findi...</td>\n",
       "      <td>positive</td>\n",
       "      <td>sweet, smooth</td>\n",
       "      <td>not enough cocoa</td>\n",
       "      <td>Sentiment: Positive\\nAspect(Pos): sweet, smoot...</td>\n",
       "      <td>Provide me Sentiment, Positive Aspects, Negati...</td>\n",
       "      <td>Sentiment: Negative\\nAspect(Pos): enjoyable, s...</td>\n",
       "    </tr>\n",
       "    <tr>\n",
       "      <th>160</th>\n",
       "      <td>446</td>\n",
       "      <td>I actually enjoyed this product. While it fall...</td>\n",
       "      <td>positive</td>\n",
       "      <td>taste fruity, organic</td>\n",
       "      <td>x</td>\n",
       "      <td>Sentiment: Positive\\nAspect(Pos): taste fruity...</td>\n",
       "      <td>Provide me Sentiment, Positive Aspects, Negati...</td>\n",
       "      <td>Sentiment: Positive\\nAspect(Pos): healthy, tas...</td>\n",
       "    </tr>\n",
       "    <tr>\n",
       "      <th>161</th>\n",
       "      <td>763</td>\n",
       "      <td>I have been a fan of coconut water for over 2 ...</td>\n",
       "      <td>negative</td>\n",
       "      <td>taste, quality, satisfaction</td>\n",
       "      <td>mold, taste, sickness, incident</td>\n",
       "      <td>Sentiment: Negative\\nAspect(Pos): taste, quali...</td>\n",
       "      <td>Provide me Sentiment, Positive Aspects, Negati...</td>\n",
       "      <td>Sentiment: Negative\\nAspect(Pos): best-tasting...</td>\n",
       "    </tr>\n",
       "    <tr>\n",
       "      <th>162</th>\n",
       "      <td>523</td>\n",
       "      <td>I don't own a microwave, so I improvised the c...</td>\n",
       "      <td>positive</td>\n",
       "      <td>great discount price, free from wheat, free fr...</td>\n",
       "      <td>x</td>\n",
       "      <td>Sentiment: Positive\\nAspect(Pos): great discou...</td>\n",
       "      <td>Provide me Sentiment, Positive Aspects, Negati...</td>\n",
       "      <td>Sentiment: Positive\\nAspect(Pos): discounted p...</td>\n",
       "    </tr>\n",
       "    <tr>\n",
       "      <th>163</th>\n",
       "      <td>717</td>\n",
       "      <td>For the past few years my Beagle, Boing, has e...</td>\n",
       "      <td>positive</td>\n",
       "      <td>affordable option, transitioning process, shin...</td>\n",
       "      <td>x</td>\n",
       "      <td>Sentiment: Positive\\nAspect(Pos): affordable o...</td>\n",
       "      <td>Provide me Sentiment, Positive Aspects, Negati...</td>\n",
       "      <td>Sentiment: Positive\\nAspect(Pos): affordable, ...</td>\n",
       "    </tr>\n",
       "  </tbody>\n",
       "</table>\n",
       "<p>164 rows × 8 columns</p>\n",
       "</div>"
      ],
      "text/plain": [
       "     Unnamed: 0                                            summary sentiment   \n",
       "0            86  The item was surprisingly thin! Despite orderi...  negative  \\\n",
       "1           432  As a coffee lover, I had high expectations for...  negative   \n",
       "2           799  When I received the Lickety Stik, my dogs were...  positive   \n",
       "3           417  As someone who enjoys bold and strong coffee, ...  positive   \n",
       "4           678  I wasn't able to find them reliably anywhere a...  positive   \n",
       "..          ...                                                ...       ...   \n",
       "159         209  I personally enjoyed this chocolate bar, findi...  positive   \n",
       "160         446  I actually enjoyed this product. While it fall...  positive   \n",
       "161         763  I have been a fan of coconut water for over 2 ...  negative   \n",
       "162         523  I don't own a microwave, so I improvised the c...  positive   \n",
       "163         717  For the past few years my Beagle, Boing, has e...  positive   \n",
       "\n",
       "                                            aspect_pos   \n",
       "0                                               refund  \\\n",
       "1                                                    x   \n",
       "2                 healthy ingredients, value the price   \n",
       "3                                  taste, bold, strong   \n",
       "4    excitement, various flavor, weight loss, break...   \n",
       "..                                                 ...   \n",
       "159                                      sweet, smooth   \n",
       "160                              taste fruity, organic   \n",
       "161                       taste, quality, satisfaction   \n",
       "162  great discount price, free from wheat, free fr...   \n",
       "163  affordable option, transitioning process, shin...   \n",
       "\n",
       "                                            aspect_neg   \n",
       "0    skinny, size, disappointed, cost, shipping, ve...  \\\n",
       "1              strange, carbonated, aftertasrte, taste   \n",
       "2                   sticky thumb, biscuits, one bottle   \n",
       "3                                                    x   \n",
       "4                                                    x   \n",
       "..                                                 ...   \n",
       "159                                   not enough cocoa   \n",
       "160                                                  x   \n",
       "161                    mold, taste, sickness, incident   \n",
       "162                                                  x   \n",
       "163                                                  x   \n",
       "\n",
       "                                            completion   \n",
       "0    Sentiment: Negative\\nAspect(Pos): refund\\nAspe...  \\\n",
       "1    Sentiment: Negative\\nAspect(Pos): x\\nAspect(Ne...   \n",
       "2    Sentiment: Positive\\nAspect(Pos): healthy ingr...   \n",
       "3    Sentiment: Positive\\nAspect(Pos): taste, bold,...   \n",
       "4    Sentiment: Positive\\nAspect(Pos): excitement, ...   \n",
       "..                                                 ...   \n",
       "159  Sentiment: Positive\\nAspect(Pos): sweet, smoot...   \n",
       "160  Sentiment: Positive\\nAspect(Pos): taste fruity...   \n",
       "161  Sentiment: Negative\\nAspect(Pos): taste, quali...   \n",
       "162  Sentiment: Positive\\nAspect(Pos): great discou...   \n",
       "163  Sentiment: Positive\\nAspect(Pos): affordable o...   \n",
       "\n",
       "                                                prompt   \n",
       "0    Provide me Sentiment, Positive Aspects, Negati...  \\\n",
       "1    Provide me Sentiment, Positive Aspects, Negati...   \n",
       "2    Provide me Sentiment, Positive Aspects, Negati...   \n",
       "3    Provide me Sentiment, Positive Aspects, Negati...   \n",
       "4    Provide me Sentiment, Positive Aspects, Negati...   \n",
       "..                                                 ...   \n",
       "159  Provide me Sentiment, Positive Aspects, Negati...   \n",
       "160  Provide me Sentiment, Positive Aspects, Negati...   \n",
       "161  Provide me Sentiment, Positive Aspects, Negati...   \n",
       "162  Provide me Sentiment, Positive Aspects, Negati...   \n",
       "163  Provide me Sentiment, Positive Aspects, Negati...   \n",
       "\n",
       "                                        Model Response  \n",
       "0    Sentiment: Negative\\nAspect(Pos): x\\nAspect(Ne...  \n",
       "1    Sentiment: Negative\\nAspect(Pos): coffee drink...  \n",
       "2    Sentiment: Positive\\nAspect(Pos): training too...  \n",
       "3    Sentiment: Negative\\nAspect(Pos): x\\nAspect(Ne...  \n",
       "4    Sentiment: Positive\\nAspect(Pos): affordable, ...  \n",
       "..                                                 ...  \n",
       "159  Sentiment: Negative\\nAspect(Pos): enjoyable, s...  \n",
       "160  Sentiment: Positive\\nAspect(Pos): healthy, tas...  \n",
       "161  Sentiment: Negative\\nAspect(Pos): best-tasting...  \n",
       "162  Sentiment: Positive\\nAspect(Pos): discounted p...  \n",
       "163  Sentiment: Positive\\nAspect(Pos): affordable, ...  \n",
       "\n",
       "[164 rows x 8 columns]"
      ]
     },
     "execution_count": 33,
     "metadata": {},
     "output_type": "execute_result"
    }
   ],
   "source": [
    "df = pd.read_excel('test_data_with_model_responses.xlsx')\n",
    "\n",
    "df"
   ]
  },
  {
   "cell_type": "markdown",
   "metadata": {},
   "source": [
    "Post Processing"
   ]
  },
  {
   "cell_type": "code",
   "execution_count": 35,
   "metadata": {},
   "outputs": [
    {
     "name": "stdout",
     "output_type": "stream",
     "text": [
      "     Unnamed: 0                                            summary sentiment   \n",
      "0            86  The item was surprisingly thin! Despite orderi...  negative  \\\n",
      "1           432  As a coffee lover, I had high expectations for...  negative   \n",
      "2           799  When I received the Lickety Stik, my dogs were...  positive   \n",
      "3           417  As someone who enjoys bold and strong coffee, ...  positive   \n",
      "4           678  I wasn't able to find them reliably anywhere a...  positive   \n",
      "..          ...                                                ...       ...   \n",
      "159         209  I personally enjoyed this chocolate bar, findi...  positive   \n",
      "160         446  I actually enjoyed this product. While it fall...  positive   \n",
      "161         763  I have been a fan of coconut water for over 2 ...  negative   \n",
      "162         523  I don't own a microwave, so I improvised the c...  positive   \n",
      "163         717  For the past few years my Beagle, Boing, has e...  positive   \n",
      "\n",
      "                                            aspect_pos   \n",
      "0                                               refund  \\\n",
      "1                                                    x   \n",
      "2                 healthy ingredients, value the price   \n",
      "3                                  taste, bold, strong   \n",
      "4    excitement, various flavor, weight loss, break...   \n",
      "..                                                 ...   \n",
      "159                                      sweet, smooth   \n",
      "160                              taste fruity, organic   \n",
      "161                       taste, quality, satisfaction   \n",
      "162  great discount price, free from wheat, free fr...   \n",
      "163  affordable option, transitioning process, shin...   \n",
      "\n",
      "                                            aspect_neg   \n",
      "0    skinny, size, disappointed, cost, shipping, ve...  \\\n",
      "1              strange, carbonated, aftertasrte, taste   \n",
      "2                   sticky thumb, biscuits, one bottle   \n",
      "3                                                    x   \n",
      "4                                                    x   \n",
      "..                                                 ...   \n",
      "159                                   not enough cocoa   \n",
      "160                                                  x   \n",
      "161                    mold, taste, sickness, incident   \n",
      "162                                                  x   \n",
      "163                                                  x   \n",
      "\n",
      "                                            completion   \n",
      "0    Sentiment: Negative\\nAspect(Pos): refund\\nAspe...  \\\n",
      "1    Sentiment: Negative\\nAspect(Pos): x\\nAspect(Ne...   \n",
      "2    Sentiment: Positive\\nAspect(Pos): healthy ingr...   \n",
      "3    Sentiment: Positive\\nAspect(Pos): taste, bold,...   \n",
      "4    Sentiment: Positive\\nAspect(Pos): excitement, ...   \n",
      "..                                                 ...   \n",
      "159  Sentiment: Positive\\nAspect(Pos): sweet, smoot...   \n",
      "160  Sentiment: Positive\\nAspect(Pos): taste fruity...   \n",
      "161  Sentiment: Negative\\nAspect(Pos): taste, quali...   \n",
      "162  Sentiment: Positive\\nAspect(Pos): great discou...   \n",
      "163  Sentiment: Positive\\nAspect(Pos): affordable o...   \n",
      "\n",
      "                                                prompt   \n",
      "0    Provide me Sentiment, Positive Aspects, Negati...  \\\n",
      "1    Provide me Sentiment, Positive Aspects, Negati...   \n",
      "2    Provide me Sentiment, Positive Aspects, Negati...   \n",
      "3    Provide me Sentiment, Positive Aspects, Negati...   \n",
      "4    Provide me Sentiment, Positive Aspects, Negati...   \n",
      "..                                                 ...   \n",
      "159  Provide me Sentiment, Positive Aspects, Negati...   \n",
      "160  Provide me Sentiment, Positive Aspects, Negati...   \n",
      "161  Provide me Sentiment, Positive Aspects, Negati...   \n",
      "162  Provide me Sentiment, Positive Aspects, Negati...   \n",
      "163  Provide me Sentiment, Positive Aspects, Negati...   \n",
      "\n",
      "                                        Model Response Sentiment   \n",
      "0    Sentiment: Negative\\nAspect(Pos): x\\nAspect(Ne...  Negative  \\\n",
      "1    Sentiment: Negative\\nAspect(Pos): coffee drink...  Negative   \n",
      "2    Sentiment: Positive\\nAspect(Pos): training too...  Positive   \n",
      "3    Sentiment: Negative\\nAspect(Pos): x\\nAspect(Ne...  Negative   \n",
      "4    Sentiment: Positive\\nAspect(Pos): affordable, ...  Positive   \n",
      "..                                                 ...       ...   \n",
      "159  Sentiment: Negative\\nAspect(Pos): enjoyable, s...  Negative   \n",
      "160  Sentiment: Positive\\nAspect(Pos): healthy, tas...  Positive   \n",
      "161  Sentiment: Negative\\nAspect(Pos): best-tasting...  Negative   \n",
      "162  Sentiment: Positive\\nAspect(Pos): discounted p...  Positive   \n",
      "163  Sentiment: Positive\\nAspect(Pos): affordable, ...  Positive   \n",
      "\n",
      "                                           Aspect(Pos)   \n",
      "0                                                    x  \\\n",
      "1    coffee drinker, lightly sweetened, strong espr...   \n",
      "2    training tool, value, enjoyment, training, bac...   \n",
      "3                                                    x   \n",
      "4                               affordable, convenient   \n",
      "..                                                 ...   \n",
      "159                           enjoyable, sweet, smooth   \n",
      "160                                     healthy, tasty   \n",
      "161                      best-tasting, highest quality   \n",
      "162  discounted price, not a bad microwave cooking,...   \n",
      "163  affordable, complete grain free, low gluten, l...   \n",
      "\n",
      "                                           Aspect(Neg)  \n",
      "0    thin, pencil width, high price, narrow, qualit...  \n",
      "1    aftertaste, tang, faint fizzy sensation, weird...  \n",
      "2    training tool, still wants to chew on the bott...  \n",
      "3    thin, bitter, lack of creamy consistency, smal...  \n",
      "4    lost in shipping, flavor is bland, calorie con...  \n",
      "..                                                 ...  \n",
      "159  price, generic taste, cocoa content, quality, ...  \n",
      "160  overpriced, single-serving, dry mouth, puckere...  \n",
      "161  mold, rancid, moldy, contaminated, container, ...  \n",
      "162  None, corn oil, high sodium content, not excep...  \n",
      "163                                               None  \n",
      "\n",
      "[164 rows x 11 columns]\n"
     ]
    }
   ],
   "source": [
    "import pandas as pd\n",
    "import re\n",
    "\n",
    "# Define a function to extract sentiment, positive aspects, and negative aspects\n",
    "def extract_sentiment_aspect(text):\n",
    "    sentiment_match = re.search(r\"Sentiment: (\\w+)\", text)\n",
    "    sentiment = sentiment_match.group(1) if sentiment_match else None\n",
    "    aspect_pos_match = re.search(r\"Aspect\\(Pos\\): (.+)\", text)\n",
    "    aspect_pos = aspect_pos_match.group(1) if aspect_pos_match else None\n",
    "    aspect_neg_match = re.search(r\"Aspect\\(Neg\\): (.+)\", text)\n",
    "    aspect_neg = aspect_neg_match.group(1) if aspect_neg_match else None\n",
    "    return sentiment, aspect_pos, aspect_neg\n",
    "\n",
    "# Read data from Excel file into DataFrame\n",
    "df = pd.read_excel('test_data_with_model_responses.xlsx')\n",
    "\n",
    "# Apply the extraction function to each row of the DataFrame and assign the results\n",
    "df[['Sentiment', 'Aspect(Pos)', 'Aspect(Neg)']] = df['Model Response'].apply(\n",
    "    lambda x: pd.Series(extract_sentiment_aspect(x)) if pd.notnull(x) else pd.Series([None, None, None])\n",
    ")\n",
    "\n",
    "# Print the DataFrame\n",
    "print(df)\n"
   ]
  },
  {
   "cell_type": "code",
   "execution_count": 42,
   "metadata": {},
   "outputs": [
    {
     "name": "stdout",
     "output_type": "stream",
     "text": [
      "Sentiment      0\n",
      "Aspect(Pos)    0\n",
      "Aspect(Neg)    0\n",
      "dtype: int64\n"
     ]
    },
    {
     "name": "stderr",
     "output_type": "stream",
     "text": [
      "Some weights of RobertaModel were not initialized from the model checkpoint at roberta-large and are newly initialized: ['roberta.pooler.dense.weight', 'roberta.pooler.dense.bias']\n",
      "You should probably TRAIN this model on a down-stream task to be able to use it for predictions and inference.\n"
     ]
    },
    {
     "name": "stdout",
     "output_type": "stream",
     "text": [
      "calculating scores...\n",
      "computing bert embedding.\n"
     ]
    },
    {
     "name": "stderr",
     "output_type": "stream",
     "text": [
      "100%|██████████| 1/1 [00:00<00:00,  1.09it/s]\n"
     ]
    },
    {
     "name": "stdout",
     "output_type": "stream",
     "text": [
      "computing greedy matching.\n"
     ]
    },
    {
     "name": "stderr",
     "output_type": "stream",
     "text": [
      "100%|██████████| 3/3 [00:00<00:00, 176.94it/s]\n"
     ]
    },
    {
     "name": "stdout",
     "output_type": "stream",
     "text": [
      "done in 0.94 seconds, 173.83 sentences/sec\n"
     ]
    },
    {
     "name": "stderr",
     "output_type": "stream",
     "text": [
      "Some weights of RobertaModel were not initialized from the model checkpoint at roberta-large and are newly initialized: ['roberta.pooler.dense.weight', 'roberta.pooler.dense.bias']\n",
      "You should probably TRAIN this model on a down-stream task to be able to use it for predictions and inference.\n"
     ]
    },
    {
     "name": "stdout",
     "output_type": "stream",
     "text": [
      "calculating scores...\n",
      "computing bert embedding.\n"
     ]
    },
    {
     "name": "stderr",
     "output_type": "stream",
     "text": [
      "100%|██████████| 5/5 [00:25<00:00,  5.10s/it]\n"
     ]
    },
    {
     "name": "stdout",
     "output_type": "stream",
     "text": [
      "computing greedy matching.\n"
     ]
    },
    {
     "name": "stderr",
     "output_type": "stream",
     "text": [
      "100%|██████████| 3/3 [00:00<00:00, 72.10it/s]\n"
     ]
    },
    {
     "name": "stdout",
     "output_type": "stream",
     "text": [
      "done in 25.57 seconds, 6.41 sentences/sec\n"
     ]
    },
    {
     "name": "stderr",
     "output_type": "stream",
     "text": [
      "Some weights of RobertaModel were not initialized from the model checkpoint at roberta-large and are newly initialized: ['roberta.pooler.dense.weight', 'roberta.pooler.dense.bias']\n",
      "You should probably TRAIN this model on a down-stream task to be able to use it for predictions and inference.\n"
     ]
    },
    {
     "name": "stdout",
     "output_type": "stream",
     "text": [
      "calculating scores...\n",
      "computing bert embedding.\n"
     ]
    },
    {
     "name": "stderr",
     "output_type": "stream",
     "text": [
      "100%|██████████| 3/3 [00:37<00:00, 12.58s/it]\n"
     ]
    },
    {
     "name": "stdout",
     "output_type": "stream",
     "text": [
      "computing greedy matching.\n"
     ]
    },
    {
     "name": "stderr",
     "output_type": "stream",
     "text": [
      "100%|██████████| 3/3 [00:00<00:00, 50.78it/s]\n"
     ]
    },
    {
     "name": "stdout",
     "output_type": "stream",
     "text": [
      "done in 37.81 seconds, 4.34 sentences/sec\n",
      "BERT Scores for Sentiment: (0.9755962491035461, 0.9746879935264587, 0.9751262068748474)\n",
      "BERT Scores for Positive Aspects: (0.8616342544555664, 0.8667250871658325, 0.8638384938240051)\n",
      "BERT Scores for Negative Aspects: (0.8031543493270874, 0.8395193219184875, 0.8199167847633362)\n",
      "0\n"
     ]
    },
    {
     "ename": "KeyError",
     "evalue": "'combined'",
     "output_type": "error",
     "traceback": [
      "\u001b[1;31m---------------------------------------------------------------------------\u001b[0m",
      "\u001b[1;31mKeyError\u001b[0m                                  Traceback (most recent call last)",
      "File \u001b[1;32mc:\\Users\\Jet\\AppData\\Local\\Programs\\Python\\Python311\\Lib\\site-packages\\pandas\\core\\indexes\\base.py:3652\u001b[0m, in \u001b[0;36mIndex.get_loc\u001b[1;34m(self, key)\u001b[0m\n\u001b[0;32m   3651\u001b[0m \u001b[38;5;28;01mtry\u001b[39;00m:\n\u001b[1;32m-> 3652\u001b[0m     \u001b[38;5;28;01mreturn\u001b[39;00m \u001b[38;5;28;43mself\u001b[39;49m\u001b[38;5;241;43m.\u001b[39;49m\u001b[43m_engine\u001b[49m\u001b[38;5;241;43m.\u001b[39;49m\u001b[43mget_loc\u001b[49m\u001b[43m(\u001b[49m\u001b[43mcasted_key\u001b[49m\u001b[43m)\u001b[49m\n\u001b[0;32m   3653\u001b[0m \u001b[38;5;28;01mexcept\u001b[39;00m \u001b[38;5;167;01mKeyError\u001b[39;00m \u001b[38;5;28;01mas\u001b[39;00m err:\n",
      "File \u001b[1;32mc:\\Users\\Jet\\AppData\\Local\\Programs\\Python\\Python311\\Lib\\site-packages\\pandas\\_libs\\index.pyx:147\u001b[0m, in \u001b[0;36mpandas._libs.index.IndexEngine.get_loc\u001b[1;34m()\u001b[0m\n",
      "File \u001b[1;32mc:\\Users\\Jet\\AppData\\Local\\Programs\\Python\\Python311\\Lib\\site-packages\\pandas\\_libs\\index.pyx:176\u001b[0m, in \u001b[0;36mpandas._libs.index.IndexEngine.get_loc\u001b[1;34m()\u001b[0m\n",
      "File \u001b[1;32mpandas\\_libs\\hashtable_class_helper.pxi:7080\u001b[0m, in \u001b[0;36mpandas._libs.hashtable.PyObjectHashTable.get_item\u001b[1;34m()\u001b[0m\n",
      "File \u001b[1;32mpandas\\_libs\\hashtable_class_helper.pxi:7088\u001b[0m, in \u001b[0;36mpandas._libs.hashtable.PyObjectHashTable.get_item\u001b[1;34m()\u001b[0m\n",
      "\u001b[1;31mKeyError\u001b[0m: 'combined'",
      "\nThe above exception was the direct cause of the following exception:\n",
      "\u001b[1;31mKeyError\u001b[0m                                  Traceback (most recent call last)",
      "Cell \u001b[1;32mIn[42], line 42\u001b[0m\n\u001b[0;32m     39\u001b[0m \u001b[38;5;28mprint\u001b[39m(df[\u001b[38;5;124m'\u001b[39m\u001b[38;5;124mCombined\u001b[39m\u001b[38;5;124m'\u001b[39m]\u001b[38;5;241m.\u001b[39misnull()\u001b[38;5;241m.\u001b[39msum())\n\u001b[0;32m     41\u001b[0m \u001b[38;5;66;03m# Compute BERT scores for the combined column\u001b[39;00m\n\u001b[1;32m---> 42\u001b[0m combined_scores \u001b[38;5;241m=\u001b[39m compute_bert_scores(df[\u001b[38;5;124m'\u001b[39m\u001b[38;5;124mCombined\u001b[39m\u001b[38;5;124m'\u001b[39m], \u001b[43mdf\u001b[49m\u001b[43m[\u001b[49m\u001b[38;5;124;43m'\u001b[39;49m\u001b[38;5;124;43mcombined\u001b[39;49m\u001b[38;5;124;43m'\u001b[39;49m\u001b[43m]\u001b[49m)\n\u001b[0;32m     44\u001b[0m \u001b[38;5;28mprint\u001b[39m(\u001b[38;5;124m\"\u001b[39m\u001b[38;5;124mBERT Scores for Combined Text:\u001b[39m\u001b[38;5;124m\"\u001b[39m, combined_scores)\n",
      "File \u001b[1;32mc:\\Users\\Jet\\AppData\\Local\\Programs\\Python\\Python311\\Lib\\site-packages\\pandas\\core\\frame.py:3761\u001b[0m, in \u001b[0;36mDataFrame.__getitem__\u001b[1;34m(self, key)\u001b[0m\n\u001b[0;32m   3759\u001b[0m \u001b[38;5;28;01mif\u001b[39;00m \u001b[38;5;28mself\u001b[39m\u001b[38;5;241m.\u001b[39mcolumns\u001b[38;5;241m.\u001b[39mnlevels \u001b[38;5;241m>\u001b[39m \u001b[38;5;241m1\u001b[39m:\n\u001b[0;32m   3760\u001b[0m     \u001b[38;5;28;01mreturn\u001b[39;00m \u001b[38;5;28mself\u001b[39m\u001b[38;5;241m.\u001b[39m_getitem_multilevel(key)\n\u001b[1;32m-> 3761\u001b[0m indexer \u001b[38;5;241m=\u001b[39m \u001b[38;5;28;43mself\u001b[39;49m\u001b[38;5;241;43m.\u001b[39;49m\u001b[43mcolumns\u001b[49m\u001b[38;5;241;43m.\u001b[39;49m\u001b[43mget_loc\u001b[49m\u001b[43m(\u001b[49m\u001b[43mkey\u001b[49m\u001b[43m)\u001b[49m\n\u001b[0;32m   3762\u001b[0m \u001b[38;5;28;01mif\u001b[39;00m is_integer(indexer):\n\u001b[0;32m   3763\u001b[0m     indexer \u001b[38;5;241m=\u001b[39m [indexer]\n",
      "File \u001b[1;32mc:\\Users\\Jet\\AppData\\Local\\Programs\\Python\\Python311\\Lib\\site-packages\\pandas\\core\\indexes\\base.py:3654\u001b[0m, in \u001b[0;36mIndex.get_loc\u001b[1;34m(self, key)\u001b[0m\n\u001b[0;32m   3652\u001b[0m     \u001b[38;5;28;01mreturn\u001b[39;00m \u001b[38;5;28mself\u001b[39m\u001b[38;5;241m.\u001b[39m_engine\u001b[38;5;241m.\u001b[39mget_loc(casted_key)\n\u001b[0;32m   3653\u001b[0m \u001b[38;5;28;01mexcept\u001b[39;00m \u001b[38;5;167;01mKeyError\u001b[39;00m \u001b[38;5;28;01mas\u001b[39;00m err:\n\u001b[1;32m-> 3654\u001b[0m     \u001b[38;5;28;01mraise\u001b[39;00m \u001b[38;5;167;01mKeyError\u001b[39;00m(key) \u001b[38;5;28;01mfrom\u001b[39;00m \u001b[38;5;21;01merr\u001b[39;00m\n\u001b[0;32m   3655\u001b[0m \u001b[38;5;28;01mexcept\u001b[39;00m \u001b[38;5;167;01mTypeError\u001b[39;00m:\n\u001b[0;32m   3656\u001b[0m     \u001b[38;5;66;03m# If we have a listlike key, _check_indexing_error will raise\u001b[39;00m\n\u001b[0;32m   3657\u001b[0m     \u001b[38;5;66;03m#  InvalidIndexError. Otherwise we fall through and re-raise\u001b[39;00m\n\u001b[0;32m   3658\u001b[0m     \u001b[38;5;66;03m#  the TypeError.\u001b[39;00m\n\u001b[0;32m   3659\u001b[0m     \u001b[38;5;28mself\u001b[39m\u001b[38;5;241m.\u001b[39m_check_indexing_error(key)\n",
      "\u001b[1;31mKeyError\u001b[0m: 'combined'"
     ]
    }
   ],
   "source": [
    "# We'll calculate BERT scores for sentiment, positive aspects, and negative aspects\n",
    "import pandas as pd\n",
    "from bert_score import score\n",
    "\n",
    "# Function to compute BERT scores for comparing text pairs\n",
    "def compute_bert_scores(cands, refs):\n",
    "    # Ensure inputs are lists of strings\n",
    "    cands = [str(cand) for cand in cands]\n",
    "    refs = [str(ref) for ref in refs]\n",
    "    \n",
    "    # Compute BERT scores\n",
    "    P, R, F1 = score(cands, refs, lang=\"en\", verbose=True)\n",
    "    return P.mean().item(), R.mean().item(), F1.mean().item()\n",
    "\n",
    "# Fill NaN values in specified columns\n",
    "df['Sentiment'].fillna('x', inplace=True)\n",
    "df['Aspect(Pos)'].fillna('x', inplace=True)\n",
    "df['Aspect(Neg)'].fillna('x', inplace=True)\n",
    "\n",
    "# Again, verify that there are no NaN values left\n",
    "print(df[['Sentiment', 'Aspect(Pos)', 'Aspect(Neg)']].isnull().sum())\n",
    "\n",
    "\n",
    "sentiment_scores = compute_bert_scores(df['Sentiment'], df['sentiment'])\n",
    "aspect_pos_scores = compute_bert_scores(df['Aspect(Pos)'], df['aspect_pos'])\n",
    "aspect_neg_scores = compute_bert_scores(df['Aspect(Neg)'], df['aspect_neg'])\n",
    "\n",
    "\n",
    "print(\"BERT Scores for Sentiment:\", sentiment_scores)\n",
    "print(\"BERT Scores for Positive Aspects:\", aspect_pos_scores)\n",
    "print(\"BERT Scores for Negative Aspects:\", aspect_neg_scores)\n",
    "\n",
    "df['Combined'] = df['Sentiment'] + ' ' + df['Aspect(Pos)'] + ' ' + df['Aspect(Neg)']\n",
    "df['combined'] = df['sentiment'] +' ' + df[\"aspect_pos\"] + ' ' + df[\"aspect_neg\"]\n",
    "# Fill NaN values in the new column\n",
    "df['Combined'].fillna('', inplace=True)\n",
    "\n",
    "# Verify that there are no NaN values left\n",
    "print(df['Combined'].isnull().sum())\n",
    "\n",
    "# Compute BERT scores for the combined column\n",
    "combined_scores = compute_bert_scores(df['Combined'], df['combined'])\n",
    "\n",
    "print(\"BERT Scores for Combined Text:\", combined_scores)"
   ]
  },
  {
   "cell_type": "code",
   "execution_count": 43,
   "metadata": {},
   "outputs": [
    {
     "name": "stdout",
     "output_type": "stream",
     "text": [
      "0\n"
     ]
    },
    {
     "name": "stderr",
     "output_type": "stream",
     "text": [
      "Some weights of RobertaModel were not initialized from the model checkpoint at roberta-large and are newly initialized: ['roberta.pooler.dense.weight', 'roberta.pooler.dense.bias']\n",
      "You should probably TRAIN this model on a down-stream task to be able to use it for predictions and inference.\n"
     ]
    },
    {
     "name": "stdout",
     "output_type": "stream",
     "text": [
      "calculating scores...\n",
      "computing bert embedding.\n"
     ]
    },
    {
     "name": "stderr",
     "output_type": "stream",
     "text": [
      "100%|██████████| 6/6 [00:51<00:00,  8.58s/it]\n"
     ]
    },
    {
     "name": "stdout",
     "output_type": "stream",
     "text": [
      "computing greedy matching.\n"
     ]
    },
    {
     "name": "stderr",
     "output_type": "stream",
     "text": [
      "100%|██████████| 3/3 [00:00<00:00, 40.85it/s]"
     ]
    },
    {
     "name": "stdout",
     "output_type": "stream",
     "text": [
      "done in 51.58 seconds, 3.18 sentences/sec\n",
      "BERT Scores for Combined Text: (0.8166630268096924, 0.8530115485191345, 0.8338488340377808)\n"
     ]
    },
    {
     "name": "stderr",
     "output_type": "stream",
     "text": [
      "\n"
     ]
    }
   ],
   "source": [
    "df['Combined'] = df['Sentiment'] + ' ' + df['Aspect(Pos)'] + ' ' + df['Aspect(Neg)']\n",
    "df['combined'] = df['sentiment'] +' ' + df[\"aspect_pos\"] + ' ' + df[\"aspect_neg\"]\n",
    "# Fill NaN values in the new column\n",
    "df['Combined'].fillna('', inplace=True)\n",
    "\n",
    "# Verify that there are no NaN values left\n",
    "print(df['Combined'].isnull().sum())\n",
    "\n",
    "# Compute BERT scores for the combined column\n",
    "combined_scores = compute_bert_scores(df['Combined'], df['combined'])\n",
    "\n",
    "print(\"BERT Scores for Combined Text:\", combined_scores)"
   ]
  },
  {
   "cell_type": "code",
   "execution_count": 45,
   "metadata": {},
   "outputs": [
    {
     "data": {
      "application/vnd.plotly.v1+json": {
       "config": {
        "plotlyServerURL": "https://plot.ly"
       },
       "data": [
        {
         "marker": {
          "color": "aqua"
         },
         "type": "bar",
         "x": [
          "Sentiment",
          "Positive Aspects",
          "Negative Aspects",
          "Combined Text"
         ],
         "y": [
          0.9751262068748474,
          0.8638384938240051,
          0.8199167847633362,
          0.8338488340377808
         ]
        }
       ],
       "layout": {
        "template": {
         "data": {
          "bar": [
           {
            "error_x": {
             "color": "#2a3f5f"
            },
            "error_y": {
             "color": "#2a3f5f"
            },
            "marker": {
             "line": {
              "color": "#E5ECF6",
              "width": 0.5
             },
             "pattern": {
              "fillmode": "overlay",
              "size": 10,
              "solidity": 0.2
             }
            },
            "type": "bar"
           }
          ],
          "barpolar": [
           {
            "marker": {
             "line": {
              "color": "#E5ECF6",
              "width": 0.5
             },
             "pattern": {
              "fillmode": "overlay",
              "size": 10,
              "solidity": 0.2
             }
            },
            "type": "barpolar"
           }
          ],
          "carpet": [
           {
            "aaxis": {
             "endlinecolor": "#2a3f5f",
             "gridcolor": "white",
             "linecolor": "white",
             "minorgridcolor": "white",
             "startlinecolor": "#2a3f5f"
            },
            "baxis": {
             "endlinecolor": "#2a3f5f",
             "gridcolor": "white",
             "linecolor": "white",
             "minorgridcolor": "white",
             "startlinecolor": "#2a3f5f"
            },
            "type": "carpet"
           }
          ],
          "choropleth": [
           {
            "colorbar": {
             "outlinewidth": 0,
             "ticks": ""
            },
            "type": "choropleth"
           }
          ],
          "contour": [
           {
            "colorbar": {
             "outlinewidth": 0,
             "ticks": ""
            },
            "colorscale": [
             [
              0,
              "#0d0887"
             ],
             [
              0.1111111111111111,
              "#46039f"
             ],
             [
              0.2222222222222222,
              "#7201a8"
             ],
             [
              0.3333333333333333,
              "#9c179e"
             ],
             [
              0.4444444444444444,
              "#bd3786"
             ],
             [
              0.5555555555555556,
              "#d8576b"
             ],
             [
              0.6666666666666666,
              "#ed7953"
             ],
             [
              0.7777777777777778,
              "#fb9f3a"
             ],
             [
              0.8888888888888888,
              "#fdca26"
             ],
             [
              1,
              "#f0f921"
             ]
            ],
            "type": "contour"
           }
          ],
          "contourcarpet": [
           {
            "colorbar": {
             "outlinewidth": 0,
             "ticks": ""
            },
            "type": "contourcarpet"
           }
          ],
          "heatmap": [
           {
            "colorbar": {
             "outlinewidth": 0,
             "ticks": ""
            },
            "colorscale": [
             [
              0,
              "#0d0887"
             ],
             [
              0.1111111111111111,
              "#46039f"
             ],
             [
              0.2222222222222222,
              "#7201a8"
             ],
             [
              0.3333333333333333,
              "#9c179e"
             ],
             [
              0.4444444444444444,
              "#bd3786"
             ],
             [
              0.5555555555555556,
              "#d8576b"
             ],
             [
              0.6666666666666666,
              "#ed7953"
             ],
             [
              0.7777777777777778,
              "#fb9f3a"
             ],
             [
              0.8888888888888888,
              "#fdca26"
             ],
             [
              1,
              "#f0f921"
             ]
            ],
            "type": "heatmap"
           }
          ],
          "heatmapgl": [
           {
            "colorbar": {
             "outlinewidth": 0,
             "ticks": ""
            },
            "colorscale": [
             [
              0,
              "#0d0887"
             ],
             [
              0.1111111111111111,
              "#46039f"
             ],
             [
              0.2222222222222222,
              "#7201a8"
             ],
             [
              0.3333333333333333,
              "#9c179e"
             ],
             [
              0.4444444444444444,
              "#bd3786"
             ],
             [
              0.5555555555555556,
              "#d8576b"
             ],
             [
              0.6666666666666666,
              "#ed7953"
             ],
             [
              0.7777777777777778,
              "#fb9f3a"
             ],
             [
              0.8888888888888888,
              "#fdca26"
             ],
             [
              1,
              "#f0f921"
             ]
            ],
            "type": "heatmapgl"
           }
          ],
          "histogram": [
           {
            "marker": {
             "pattern": {
              "fillmode": "overlay",
              "size": 10,
              "solidity": 0.2
             }
            },
            "type": "histogram"
           }
          ],
          "histogram2d": [
           {
            "colorbar": {
             "outlinewidth": 0,
             "ticks": ""
            },
            "colorscale": [
             [
              0,
              "#0d0887"
             ],
             [
              0.1111111111111111,
              "#46039f"
             ],
             [
              0.2222222222222222,
              "#7201a8"
             ],
             [
              0.3333333333333333,
              "#9c179e"
             ],
             [
              0.4444444444444444,
              "#bd3786"
             ],
             [
              0.5555555555555556,
              "#d8576b"
             ],
             [
              0.6666666666666666,
              "#ed7953"
             ],
             [
              0.7777777777777778,
              "#fb9f3a"
             ],
             [
              0.8888888888888888,
              "#fdca26"
             ],
             [
              1,
              "#f0f921"
             ]
            ],
            "type": "histogram2d"
           }
          ],
          "histogram2dcontour": [
           {
            "colorbar": {
             "outlinewidth": 0,
             "ticks": ""
            },
            "colorscale": [
             [
              0,
              "#0d0887"
             ],
             [
              0.1111111111111111,
              "#46039f"
             ],
             [
              0.2222222222222222,
              "#7201a8"
             ],
             [
              0.3333333333333333,
              "#9c179e"
             ],
             [
              0.4444444444444444,
              "#bd3786"
             ],
             [
              0.5555555555555556,
              "#d8576b"
             ],
             [
              0.6666666666666666,
              "#ed7953"
             ],
             [
              0.7777777777777778,
              "#fb9f3a"
             ],
             [
              0.8888888888888888,
              "#fdca26"
             ],
             [
              1,
              "#f0f921"
             ]
            ],
            "type": "histogram2dcontour"
           }
          ],
          "mesh3d": [
           {
            "colorbar": {
             "outlinewidth": 0,
             "ticks": ""
            },
            "type": "mesh3d"
           }
          ],
          "parcoords": [
           {
            "line": {
             "colorbar": {
              "outlinewidth": 0,
              "ticks": ""
             }
            },
            "type": "parcoords"
           }
          ],
          "pie": [
           {
            "automargin": true,
            "type": "pie"
           }
          ],
          "scatter": [
           {
            "fillpattern": {
             "fillmode": "overlay",
             "size": 10,
             "solidity": 0.2
            },
            "type": "scatter"
           }
          ],
          "scatter3d": [
           {
            "line": {
             "colorbar": {
              "outlinewidth": 0,
              "ticks": ""
             }
            },
            "marker": {
             "colorbar": {
              "outlinewidth": 0,
              "ticks": ""
             }
            },
            "type": "scatter3d"
           }
          ],
          "scattercarpet": [
           {
            "marker": {
             "colorbar": {
              "outlinewidth": 0,
              "ticks": ""
             }
            },
            "type": "scattercarpet"
           }
          ],
          "scattergeo": [
           {
            "marker": {
             "colorbar": {
              "outlinewidth": 0,
              "ticks": ""
             }
            },
            "type": "scattergeo"
           }
          ],
          "scattergl": [
           {
            "marker": {
             "colorbar": {
              "outlinewidth": 0,
              "ticks": ""
             }
            },
            "type": "scattergl"
           }
          ],
          "scattermapbox": [
           {
            "marker": {
             "colorbar": {
              "outlinewidth": 0,
              "ticks": ""
             }
            },
            "type": "scattermapbox"
           }
          ],
          "scatterpolar": [
           {
            "marker": {
             "colorbar": {
              "outlinewidth": 0,
              "ticks": ""
             }
            },
            "type": "scatterpolar"
           }
          ],
          "scatterpolargl": [
           {
            "marker": {
             "colorbar": {
              "outlinewidth": 0,
              "ticks": ""
             }
            },
            "type": "scatterpolargl"
           }
          ],
          "scatterternary": [
           {
            "marker": {
             "colorbar": {
              "outlinewidth": 0,
              "ticks": ""
             }
            },
            "type": "scatterternary"
           }
          ],
          "surface": [
           {
            "colorbar": {
             "outlinewidth": 0,
             "ticks": ""
            },
            "colorscale": [
             [
              0,
              "#0d0887"
             ],
             [
              0.1111111111111111,
              "#46039f"
             ],
             [
              0.2222222222222222,
              "#7201a8"
             ],
             [
              0.3333333333333333,
              "#9c179e"
             ],
             [
              0.4444444444444444,
              "#bd3786"
             ],
             [
              0.5555555555555556,
              "#d8576b"
             ],
             [
              0.6666666666666666,
              "#ed7953"
             ],
             [
              0.7777777777777778,
              "#fb9f3a"
             ],
             [
              0.8888888888888888,
              "#fdca26"
             ],
             [
              1,
              "#f0f921"
             ]
            ],
            "type": "surface"
           }
          ],
          "table": [
           {
            "cells": {
             "fill": {
              "color": "#EBF0F8"
             },
             "line": {
              "color": "white"
             }
            },
            "header": {
             "fill": {
              "color": "#C8D4E3"
             },
             "line": {
              "color": "white"
             }
            },
            "type": "table"
           }
          ]
         },
         "layout": {
          "annotationdefaults": {
           "arrowcolor": "#2a3f5f",
           "arrowhead": 0,
           "arrowwidth": 1
          },
          "autotypenumbers": "strict",
          "coloraxis": {
           "colorbar": {
            "outlinewidth": 0,
            "ticks": ""
           }
          },
          "colorscale": {
           "diverging": [
            [
             0,
             "#8e0152"
            ],
            [
             0.1,
             "#c51b7d"
            ],
            [
             0.2,
             "#de77ae"
            ],
            [
             0.3,
             "#f1b6da"
            ],
            [
             0.4,
             "#fde0ef"
            ],
            [
             0.5,
             "#f7f7f7"
            ],
            [
             0.6,
             "#e6f5d0"
            ],
            [
             0.7,
             "#b8e186"
            ],
            [
             0.8,
             "#7fbc41"
            ],
            [
             0.9,
             "#4d9221"
            ],
            [
             1,
             "#276419"
            ]
           ],
           "sequential": [
            [
             0,
             "#0d0887"
            ],
            [
             0.1111111111111111,
             "#46039f"
            ],
            [
             0.2222222222222222,
             "#7201a8"
            ],
            [
             0.3333333333333333,
             "#9c179e"
            ],
            [
             0.4444444444444444,
             "#bd3786"
            ],
            [
             0.5555555555555556,
             "#d8576b"
            ],
            [
             0.6666666666666666,
             "#ed7953"
            ],
            [
             0.7777777777777778,
             "#fb9f3a"
            ],
            [
             0.8888888888888888,
             "#fdca26"
            ],
            [
             1,
             "#f0f921"
            ]
           ],
           "sequentialminus": [
            [
             0,
             "#0d0887"
            ],
            [
             0.1111111111111111,
             "#46039f"
            ],
            [
             0.2222222222222222,
             "#7201a8"
            ],
            [
             0.3333333333333333,
             "#9c179e"
            ],
            [
             0.4444444444444444,
             "#bd3786"
            ],
            [
             0.5555555555555556,
             "#d8576b"
            ],
            [
             0.6666666666666666,
             "#ed7953"
            ],
            [
             0.7777777777777778,
             "#fb9f3a"
            ],
            [
             0.8888888888888888,
             "#fdca26"
            ],
            [
             1,
             "#f0f921"
            ]
           ]
          },
          "colorway": [
           "#636efa",
           "#EF553B",
           "#00cc96",
           "#ab63fa",
           "#FFA15A",
           "#19d3f3",
           "#FF6692",
           "#B6E880",
           "#FF97FF",
           "#FECB52"
          ],
          "font": {
           "color": "#2a3f5f"
          },
          "geo": {
           "bgcolor": "white",
           "lakecolor": "white",
           "landcolor": "#E5ECF6",
           "showlakes": true,
           "showland": true,
           "subunitcolor": "white"
          },
          "hoverlabel": {
           "align": "left"
          },
          "hovermode": "closest",
          "mapbox": {
           "style": "light"
          },
          "paper_bgcolor": "white",
          "plot_bgcolor": "#E5ECF6",
          "polar": {
           "angularaxis": {
            "gridcolor": "white",
            "linecolor": "white",
            "ticks": ""
           },
           "bgcolor": "#E5ECF6",
           "radialaxis": {
            "gridcolor": "white",
            "linecolor": "white",
            "ticks": ""
           }
          },
          "scene": {
           "xaxis": {
            "backgroundcolor": "#E5ECF6",
            "gridcolor": "white",
            "gridwidth": 2,
            "linecolor": "white",
            "showbackground": true,
            "ticks": "",
            "zerolinecolor": "white"
           },
           "yaxis": {
            "backgroundcolor": "#E5ECF6",
            "gridcolor": "white",
            "gridwidth": 2,
            "linecolor": "white",
            "showbackground": true,
            "ticks": "",
            "zerolinecolor": "white"
           },
           "zaxis": {
            "backgroundcolor": "#E5ECF6",
            "gridcolor": "white",
            "gridwidth": 2,
            "linecolor": "white",
            "showbackground": true,
            "ticks": "",
            "zerolinecolor": "white"
           }
          },
          "shapedefaults": {
           "line": {
            "color": "#2a3f5f"
           }
          },
          "ternary": {
           "aaxis": {
            "gridcolor": "white",
            "linecolor": "white",
            "ticks": ""
           },
           "baxis": {
            "gridcolor": "white",
            "linecolor": "white",
            "ticks": ""
           },
           "bgcolor": "#E5ECF6",
           "caxis": {
            "gridcolor": "white",
            "linecolor": "white",
            "ticks": ""
           }
          },
          "title": {
           "x": 0.05
          },
          "xaxis": {
           "automargin": true,
           "gridcolor": "white",
           "linecolor": "white",
           "ticks": "",
           "title": {
            "standoff": 15
           },
           "zerolinecolor": "white",
           "zerolinewidth": 2
          },
          "yaxis": {
           "automargin": true,
           "gridcolor": "white",
           "linecolor": "white",
           "ticks": "",
           "title": {
            "standoff": 15
           },
           "zerolinecolor": "white",
           "zerolinewidth": 2
          }
         }
        },
        "title": {
         "text": "BERT F1 Scores for Various Text Categories"
        },
        "xaxis": {
         "title": {
          "text": "Text Categories"
         }
        },
        "yaxis": {
         "range": [
          0.7,
          1
         ],
         "title": {
          "text": "F1 Score"
         }
        }
       }
      }
     },
     "metadata": {},
     "output_type": "display_data"
    }
   ],
   "source": [
    "import plotly.graph_objects as go\n",
    "\n",
    "# BERT F1 Scores for different categories\n",
    "categories = ['Sentiment', 'Positive Aspects', 'Negative Aspects', 'Combined Text']\n",
    "f1_scores = [0.9751262068748474, 0.8638384938240051, 0.8199167847633362, 0.8338488340377808]\n",
    "\n",
    "# Create a bar chart\n",
    "fig = go.Figure([go.Bar(x=categories, y=f1_scores, marker_color='aqua')])\n",
    "\n",
    "# Update layout\n",
    "fig.update_layout(title='BERT F1 Scores for Various Text Categories',\n",
    "                  xaxis_title='Text Categories',\n",
    "                  yaxis_title='F1 Score',\n",
    "                  yaxis=dict(range=[0.7, 1]))  # Adjust y-axis to better showcase differences\n",
    "\n",
    "# Show the figure\n",
    "fig.show()\n"
   ]
  }
 ],
 "metadata": {
  "kernelspec": {
   "display_name": "Python 3",
   "language": "python",
   "name": "python3"
  },
  "language_info": {
   "codemirror_mode": {
    "name": "ipython",
    "version": 3
   },
   "file_extension": ".py",
   "mimetype": "text/x-python",
   "name": "python",
   "nbconvert_exporter": "python",
   "pygments_lexer": "ipython3",
   "version": "3.11.3"
  }
 },
 "nbformat": 4,
 "nbformat_minor": 2
}
